{
 "cells": [
  {
   "cell_type": "markdown",
   "metadata": {},
   "source": [
    "The function that chooses gene name or gene length (for now)"
   ]
  },
  {
   "cell_type": "code",
   "execution_count": 1,
   "metadata": {},
   "outputs": [],
   "source": [
    "import pandas as pd\n",
    "from collections import defaultdict \n",
    "\n",
    "def gtf_file_manipulation(file_name, output_file_name = 'optional', gene_name = 'optional', intron_length_required= 'optional',  gene_length = 'optional' ,first_exon_length_min = 'optional', first_exon_length_max = 'optional'):\n",
    "\n",
    "\n",
    "    if gene_name != 'optional':\n",
    "        data = pd.read_csv(file_name, sep = '\\t') \n",
    "        number_of_exons = len(data[data['gene_name']== gene_name])\n",
    "        print('the number of the exons that ', gene_name, 'has is',  number_of_exons)\n",
    "        gene_exons_data = data[data['gene_name']== gene_name]\n",
    "        gene_len = list(gene_exons_data['gene_length'])\n",
    "        print('the gene length is a set that must have one element and it is equal to', gene_len)\n",
    "        gene_exons_length_dict = defaultdict(int)\n",
    "        for i in gene_exons_data.index:\n",
    "            gene_exons_length_dict[int((gene_exons_data['exon_id'][i])[gene_exons_data['exon_id'][i].index('e')+1:])] = gene_exons_data['exon_start'][i],  (gene_exons_data['exon_end'][i]- gene_exons_data['exon_start'][i])\n",
    "        gene_exons_length_dict_sorted_by_exons_sort =  dict(sorted(gene_exons_length_dict.items()))\n",
    "\n",
    "        to_print = []\n",
    "        for i in list(gene_exons_length_dict_sorted_by_exons_sort.values()):\n",
    "            if i[0]-list(gene_exons_length_dict_sorted_by_exons_sort.values())[0][0] >= 0 :\n",
    "                to_print.append((i[0]-list(gene_exons_length_dict_sorted_by_exons_sort.values())[0][0], i[1]))\n",
    "\n",
    "        #intron_length = []    \n",
    "        #for i,j in list(zip(list(gene_exons_length_dict_sorted_by_exons_sort.values())[:-1],list(gene_exons_length_dict_sorted_by_exons_sort.values())[1:])):\n",
    "        #    intron_length.append(j[0] - (i[0]+i[1]))\n",
    "\n",
    "        #intron_length.append('end')\n",
    "                #print(len(gene_exons_length_dict_sorted_by_exons_sort.values()))\n",
    "                #print(len(intron_length))\n",
    "        #exon_length_intron_length = list(zip(list(gene_exons_length_dict_sorted_by_exons_sort.values()), intron_length))\n",
    "           # to_write = (str(gene_name) + str(' ') + str((gene_len)) + str(' ') + str(exon_length_intron_length))\n",
    "           # out.write(to_write+'\\n')\n",
    "        return(gene_name, str(gene_len[0]), str(to_print).replace('(','').replace(')','').replace('[','').replace(']',''))\n",
    "    \n",
    "    '''\n",
    "    if gene_length != 'optional':\n",
    "        data = pd.read_csv(file_name, sep = '\\t')\n",
    "        gene_lengths = []\n",
    "        for length in list(data['gene_length']):\n",
    "            if ',' not in length:\n",
    "                gene_lengths.append(int(length))\n",
    "            if ',' in length:\n",
    "                gene_lengths.append(int(length[:length.index(',')]))\n",
    "        data['gene_length'] = gene_lengths\n",
    "        above_threshold = (data[data['gene_length']  >= gene_length]) \n",
    "        dataframes_of_different_genes = [y for x, y in above_threshold.groupby('gene_name')]\n",
    "        with open(output_file_name, 'w') as out:\n",
    "            for gene_id in range(len(dataframes_of_different_genes)):\n",
    "                gene_exons_length_dict = defaultdict(int)\n",
    "                number_of_exons = len(dataframes_of_different_genes[gene_id])\n",
    "                Name_of_the_gene = dataframes_of_different_genes[gene_id]['gene_name'].values[0]\n",
    "                length_of_the_gene = dataframes_of_different_genes[gene_id]['gene_length'].values[0]\n",
    "                for i in dataframes_of_different_genes[gene_id].index:\n",
    "                    gene_exons_length_dict[int((dataframes_of_different_genes[gene_id]['exon_id'][i])[dataframes_of_different_genes[gene_id]['exon_id'][i].index('e')+1:])] =  dataframes_of_different_genes[gene_id]['exon_start'][i] , (dataframes_of_different_genes[gene_id]['exon_end'][i] -  dataframes_of_different_genes[gene_id]['exon_start'][i])\n",
    "                gene_exons_length_dict_sorted_by_exons_sort =  dict(sorted(gene_exons_length_dict.items()))\n",
    "                to_print = []\n",
    "                for i in list(gene_exons_length_dict_sorted_by_exons_sort.values()):\n",
    "                    if i[0]-list(gene_exons_length_dict_sorted_by_exons_sort.values())[0][0] >= 0 :\n",
    "                        to_print.append((i[0]-list(gene_exons_length_dict_sorted_by_exons_sort.values())[0][0], i[1]))\n",
    "                to_write = (str(Name_of_the_gene) + ('\\t') + str(length_of_the_gene) + ('\\t')  + str(to_print).replace('(', '').replace(')', '').replace('[', '').replace(']', ''))\n",
    "                out.write(to_write+'\\n')\n",
    "        return('Done!')'''\n",
    "                \n",
    "           \n",
    "    if (first_exon_length_min != 'optional'and first_exon_length_max != 'optional' and gene_length != 'optional'):\n",
    "        data = pd.read_csv(file_name, sep = '\\t')\n",
    "        dataframes_of_different_genes = [y for x, y in data.groupby('gene_name')]\n",
    "       \n",
    "        with open(output_file_name, 'w') as out:\n",
    "            \n",
    "            for gene_id in range(len(dataframes_of_different_genes)):\n",
    "                gene_exons_length_dict = defaultdict(int)\n",
    "                number_of_exons = len(dataframes_of_different_genes[gene_id])\n",
    "                Name_of_the_gene = dataframes_of_different_genes[gene_id]['gene_name'].values[0]\n",
    "                length_of_the_gene = dataframes_of_different_genes[gene_id]['gene_length'].values[0]\n",
    "                if ',' in length_of_the_gene:\n",
    "                    length_of_the_gene = length_of_the_gene[:length_of_the_gene.index(',')]\n",
    " \n",
    "                for i in dataframes_of_different_genes[gene_id].index:\n",
    "                    gene_exons_length_dict[int((dataframes_of_different_genes[gene_id]['exon_id'][i])[dataframes_of_different_genes[gene_id]['exon_id'][i].index('e')+1:])] =  (dataframes_of_different_genes[gene_id]['exon_start'][i] , dataframes_of_different_genes[gene_id]['exon_end'][i]) # -  dataframes_of_different_genes[gene_id]['exon_start'][i])\n",
    "                gene_exons_length_dict_sorted_by_exons_sort =  dict(sorted(gene_exons_length_dict.items()))\n",
    "                print(gene_exons_length_dict_sorted_by_exons_sort)\n",
    "                \n",
    "                \n",
    "                if ((list(gene_exons_length_dict_sorted_by_exons_sort.values())[0][1]-list(gene_exons_length_dict_sorted_by_exons_sort.values())[0][0]) > first_exon_length_min) and ((list(gene_exons_length_dict_sorted_by_exons_sort.values())[0][1]-list(gene_exons_length_dict_sorted_by_exons_sort.values())[0][0]) < first_exon_length_max) and (int(length_of_the_gene) < gene_length) :\n",
    "                    intron_length = []    \n",
    "                    for i,j in list(zip(list(gene_exons_length_dict_sorted_by_exons_sort.values())[:-1],list(gene_exons_length_dict_sorted_by_exons_sort.values())[1:])):\n",
    "                        intron_length.append(j[0] - (i[0]+i[1]))\n",
    "                    intron_length.append('end')\n",
    "                    exon_length_intron_length = list(zip(list(gene_exons_length_dict_sorted_by_exons_sort.values()), intron_length))\n",
    "                    \n",
    "                    to_print = []\n",
    "                    for i in list(gene_exons_length_dict_sorted_by_exons_sort.values()):\n",
    "                        if i[0]-list(gene_exons_length_dict_sorted_by_exons_sort.values())[0][0] >= 0 :\n",
    "                            to_print.append((i[0]-list(gene_exons_length_dict_sorted_by_exons_sort.values())[0][0], i[1]-list(gene_exons_length_dict_sorted_by_exons_sort.values())[0][0]))\n",
    "                        \n",
    "                            \n",
    "                    \n",
    "                    to_write = (str(Name_of_the_gene) + (',') + str(length_of_the_gene) + (',')  + str(to_print).replace('(', '').replace(')', '').replace('[', '').replace(']', ''))\n",
    "                    out.write(to_write+'\\n')\n",
    "                else:\n",
    "                    continue\n",
    "        return('Done!')\n",
    "\n",
    "\n",
    "    if (gene_length != 'optional' and intron_length_required != 'optional'):\n",
    "        data = pd.read_csv(file_name, sep = '\\t')\n",
    "        dataframes_of_different_genes = [y for x, y in data.groupby('gene_name')]\n",
    "        lista_for_sim = []\n",
    "        with open(output_file_name, 'w') as out:\n",
    "            \n",
    "            for gene_id in range(len(dataframes_of_different_genes)):\n",
    "                gene_exons_length_dict = defaultdict(int)\n",
    "                number_of_exons = len(dataframes_of_different_genes[gene_id])\n",
    "                Name_of_the_gene = dataframes_of_different_genes[gene_id]['gene_name'].values[0]\n",
    "                length_of_the_gene = dataframes_of_different_genes[gene_id]['gene_length'].values[0]\n",
    "                if ',' in length_of_the_gene:\n",
    "                    length_of_the_gene = length_of_the_gene[:length_of_the_gene.index(',')]\n",
    " \n",
    "                for i in dataframes_of_different_genes[gene_id].index:\n",
    "                    gene_exons_length_dict[int((dataframes_of_different_genes[gene_id]['exon_id'][i])[dataframes_of_different_genes[gene_id]['exon_id'][i].index('e')+1:])] =  (dataframes_of_different_genes[gene_id]['exon_start'][i] , dataframes_of_different_genes[gene_id]['exon_end'][i]) # -  dataframes_of_different_genes[gene_id]['exon_start'][i])\n",
    "                gene_exons_length_dict_sorted_by_exons =  dict(sorted(gene_exons_length_dict.items()))\n",
    "               # print(gene_exons_length_dict_sorted_by_exons)\n",
    "                \n",
    "                \n",
    "                if (int(length_of_the_gene) >= gene_length) :\n",
    "                    intron_length = []    \n",
    "                    for i,j in list(zip(list(gene_exons_length_dict_sorted_by_exons.values())[:-1],list(gene_exons_length_dict_sorted_by_exons.values())[1:])):\n",
    "                        intron_length.append(j[0] - (i[1]))\n",
    "                    intron_length.append('end')\n",
    "                    exon_length_intron_length = list(zip(list(gene_exons_length_dict_sorted_by_exons.values()), intron_length))\n",
    "                    if intron_length[0] > intron_length_required:\n",
    "                        to_print = []\n",
    "                        for i in list(gene_exons_length_dict_sorted_by_exons.values()):\n",
    "                            if i[0]-list(gene_exons_length_dict_sorted_by_exons.values())[0][0] >= 0 :\n",
    "                                to_print.append((i[0]-list(gene_exons_length_dict_sorted_by_exons.values())[0][0], i[1]-list(gene_exons_length_dict_sorted_by_exons.values())[0][0]))\n",
    "                        \n",
    "                            \n",
    "                    \n",
    "                        to_write = (str(Name_of_the_gene) + (',') + str(length_of_the_gene) + (',')  + str(to_print).replace('(', '').replace(')', '').replace('[', '').replace(']', ''))\n",
    "                        lista_for_sim.append(to_write)\n",
    "                        out.write(to_write+'\\n')\n",
    "                    else:\n",
    "                        continue\n",
    "                else:\n",
    "                    continue\n",
    "        return('Done!')\n",
    "\n",
    "\n",
    "\n",
    "\n"
   ]
  },
  {
   "cell_type": "markdown",
   "metadata": {},
   "source": [
    "The next is to produce files with specific genes above a gene length"
   ]
  },
  {
   "cell_type": "code",
   "execution_count": 4,
   "metadata": {},
   "outputs": [
    {
     "data": {
      "text/plain": [
       "'Done!'"
      ]
     },
     "execution_count": 4,
     "metadata": {},
     "output_type": "execute_result"
    }
   ],
   "source": [
    "gtf_file_manipulation('refseq.exons.txt', 'output_file_of_genes_60k_intron_10k', gene_length=60_000, intron_length_required=10_000)"
   ]
  },
  {
   "cell_type": "code",
   "execution_count": 3,
   "metadata": {},
   "outputs": [],
   "source": [
    "gtf_file_manipulation('refseq.exons.txt', 'output_file_of_genes_greater_50k.csv', gene_length=50_000)"
   ]
  },
  {
   "cell_type": "code",
   "execution_count": null,
   "metadata": {},
   "outputs": [],
   "source": [
    "gtf_file_manipulation('refseq.exons.txt', 'output_file_of_genes_with_first_exon_greater_than3000_less_than_4000', first_exon_length_min=3_000, first_exon_length_max= 4_000, gene_length = 50_000)"
   ]
  },
  {
   "cell_type": "markdown",
   "metadata": {},
   "source": [
    "The next one is to choose genes bases on their name that can be given in a list"
   ]
  },
  {
   "cell_type": "code",
   "execution_count": null,
   "metadata": {},
   "outputs": [],
   "source": [
    "lista = ['A2M', 'NAT2', 'AJUBA', 'SETDB1', 'SATB1']\n",
    "with open('genempla.csv', 'w') as mpla:\n",
    "    for i in lista:\n",
    "        mpla.write(str(gtf_file_manipulation('refseq.exons.txt', gene_name = i)).strip('(').strip(')')+'\\n')"
   ]
  },
  {
   "cell_type": "code",
   "execution_count": null,
   "metadata": {},
   "outputs": [],
   "source": [
    "vln_plot = pd.read_csv('output_file_of_genes_60k_intron_10k', names=list(range(500)))"
   ]
  },
  {
   "cell_type": "code",
   "execution_count": 83,
   "metadata": {},
   "outputs": [
    {
     "name": "stderr",
     "output_type": "stream",
     "text": [
      "C:\\Users\\maria\\AppData\\Local\\Packages\\PythonSoftwareFoundation.Python.3.11_qbz5n2kfra8p0\\LocalCache\\local-packages\\Python311\\site-packages\\pandas\\core\\arraylike.py:396: RuntimeWarning: invalid value encountered in log\n",
      "  result = getattr(ufunc, method)(*inputs, **kwargs)\n"
     ]
    },
    {
     "data": {
      "text/html": [
       "<div>\n",
       "<style scoped>\n",
       "    .dataframe tbody tr th:only-of-type {\n",
       "        vertical-align: middle;\n",
       "    }\n",
       "\n",
       "    .dataframe tbody tr th {\n",
       "        vertical-align: top;\n",
       "    }\n",
       "\n",
       "    .dataframe thead th {\n",
       "        text-align: right;\n",
       "    }\n",
       "</style>\n",
       "<table border=\"1\" class=\"dataframe\">\n",
       "  <thead>\n",
       "    <tr style=\"text-align: right;\">\n",
       "      <th></th>\n",
       "      <th>exon1</th>\n",
       "      <th>intron1</th>\n",
       "      <th>exon2</th>\n",
       "      <th>intron2</th>\n",
       "      <th>exon3</th>\n",
       "      <th>intron3</th>\n",
       "    </tr>\n",
       "  </thead>\n",
       "  <tbody>\n",
       "    <tr>\n",
       "      <th>0</th>\n",
       "      <td>4.828314</td>\n",
       "      <td>11.018416</td>\n",
       "      <td>4.709530</td>\n",
       "      <td>9.229260</td>\n",
       "      <td>4.584967</td>\n",
       "      <td>7.605392</td>\n",
       "    </tr>\n",
       "    <tr>\n",
       "      <th>1</th>\n",
       "      <td>4.532599</td>\n",
       "      <td>9.971427</td>\n",
       "      <td>4.543295</td>\n",
       "      <td>8.553332</td>\n",
       "      <td>4.820282</td>\n",
       "      <td>9.951944</td>\n",
       "    </tr>\n",
       "    <tr>\n",
       "      <th>2</th>\n",
       "      <td>5.407172</td>\n",
       "      <td>10.968474</td>\n",
       "      <td>5.176150</td>\n",
       "      <td>7.486053</td>\n",
       "      <td>4.836282</td>\n",
       "      <td>8.431417</td>\n",
       "    </tr>\n",
       "    <tr>\n",
       "      <th>3</th>\n",
       "      <td>6.013715</td>\n",
       "      <td>9.890504</td>\n",
       "      <td>4.382027</td>\n",
       "      <td>10.718565</td>\n",
       "      <td>4.990433</td>\n",
       "      <td>7.487734</td>\n",
       "    </tr>\n",
       "    <tr>\n",
       "      <th>4</th>\n",
       "      <td>7.976595</td>\n",
       "      <td>9.882468</td>\n",
       "      <td>4.836282</td>\n",
       "      <td>8.646993</td>\n",
       "      <td>4.442651</td>\n",
       "      <td>8.784468</td>\n",
       "    </tr>\n",
       "    <tr>\n",
       "      <th>...</th>\n",
       "      <td>...</td>\n",
       "      <td>...</td>\n",
       "      <td>...</td>\n",
       "      <td>...</td>\n",
       "      <td>...</td>\n",
       "      <td>...</td>\n",
       "    </tr>\n",
       "    <tr>\n",
       "      <th>1772</th>\n",
       "      <td>7.326466</td>\n",
       "      <td>10.540461</td>\n",
       "      <td>4.564348</td>\n",
       "      <td>10.373179</td>\n",
       "      <td>4.663439</td>\n",
       "      <td>8.786151</td>\n",
       "    </tr>\n",
       "    <tr>\n",
       "      <th>1773</th>\n",
       "      <td>4.532599</td>\n",
       "      <td>11.150434</td>\n",
       "      <td>4.836282</td>\n",
       "      <td>10.920402</td>\n",
       "      <td>4.317488</td>\n",
       "      <td>6.591674</td>\n",
       "    </tr>\n",
       "    <tr>\n",
       "      <th>1774</th>\n",
       "      <td>5.273000</td>\n",
       "      <td>10.730269</td>\n",
       "      <td>5.181784</td>\n",
       "      <td>10.455071</td>\n",
       "      <td>4.343805</td>\n",
       "      <td>9.455245</td>\n",
       "    </tr>\n",
       "    <tr>\n",
       "      <th>1775</th>\n",
       "      <td>6.516193</td>\n",
       "      <td>11.847482</td>\n",
       "      <td>5.877736</td>\n",
       "      <td>9.784028</td>\n",
       "      <td>5.003946</td>\n",
       "      <td>8.109225</td>\n",
       "    </tr>\n",
       "    <tr>\n",
       "      <th>1776</th>\n",
       "      <td>5.416100</td>\n",
       "      <td>10.301391</td>\n",
       "      <td>5.111988</td>\n",
       "      <td>9.574706</td>\n",
       "      <td>6.626718</td>\n",
       "      <td>8.996900</td>\n",
       "    </tr>\n",
       "  </tbody>\n",
       "</table>\n",
       "<p>1777 rows × 6 columns</p>\n",
       "</div>"
      ],
      "text/plain": [
       "         exon1    intron1     exon2    intron2     exon3   intron3\n",
       "0     4.828314  11.018416  4.709530   9.229260  4.584967  7.605392\n",
       "1     4.532599   9.971427  4.543295   8.553332  4.820282  9.951944\n",
       "2     5.407172  10.968474  5.176150   7.486053  4.836282  8.431417\n",
       "3     6.013715   9.890504  4.382027  10.718565  4.990433  7.487734\n",
       "4     7.976595   9.882468  4.836282   8.646993  4.442651  8.784468\n",
       "...        ...        ...       ...        ...       ...       ...\n",
       "1772  7.326466  10.540461  4.564348  10.373179  4.663439  8.786151\n",
       "1773  4.532599  11.150434  4.836282  10.920402  4.317488  6.591674\n",
       "1774  5.273000  10.730269  5.181784  10.455071  4.343805  9.455245\n",
       "1775  6.516193  11.847482  5.877736   9.784028  5.003946  8.109225\n",
       "1776  5.416100  10.301391  5.111988   9.574706  6.626718  8.996900\n",
       "\n",
       "[1777 rows x 6 columns]"
      ]
     },
     "execution_count": 83,
     "metadata": {},
     "output_type": "execute_result"
    }
   ],
   "source": [
    "import math\n",
    "import numpy as np\n",
    "np.log(vln_plot[3])\n",
    "df = pd.DataFrame([np.log(vln_plot[3]), np.log(vln_plot[4]-vln_plot[3]),  np.log(vln_plot[5]-vln_plot[4]),   np.log(vln_plot[6]-vln_plot[5]), np.log(vln_plot[7]-vln_plot[6]), np.log(vln_plot[8]-vln_plot[7])])\n",
    "df2 = (df.T).set_axis(['exon1', 'intron1', 'exon2', 'intron2', 'exon3',  'intron3'], axis=1)\n",
    "df2\n"
   ]
  },
  {
   "cell_type": "code",
   "execution_count": 84,
   "metadata": {},
   "outputs": [],
   "source": [
    "import matplotlib.pyplot as plt\n",
    "import numpy as np\n",
    "import seaborn as sns\n"
   ]
  },
  {
   "cell_type": "code",
   "execution_count": null,
   "metadata": {},
   "outputs": [],
   "source": [
    "pip install seaborn"
   ]
  },
  {
   "cell_type": "code",
   "execution_count": 106,
   "metadata": {},
   "outputs": [
    {
     "name": "stdout",
     "output_type": "stream",
     "text": [
      "{'exon1': 'o', 'intron1': 'o', 'exon2': 'o', 'intron2': 'o', 'exon3': 'o', 'intron3': 'o'}\n"
     ]
    },
    {
     "data": {
      "text/plain": [
       "[Text(0, 0.5, 'log2 of the length in base pairs'),\n",
       " Text(0.5, 1.0, 'Log2 of lengths of exons and introns of genes with length over 60kb pairs')]"
      ]
     },
     "execution_count": 106,
     "metadata": {},
     "output_type": "execute_result"
    },
    {
     "data": {
      "image/png": "[encoded data removed]",
      "text/plain": [
       "<Figure size 640x480 with 1 Axes>"
      ]
     },
     "metadata": {},
     "output_type": "display_data"
    }
   ],
   "source": [
    "#ax.set(ylim=(10, 200_000))\n",
    "my_pal = {species: \"r\" if (species == \"exon2\" or species =='intron2') else \"b\"     for species in df2}\n",
    "my_pal2 = {species: \"o\"   for species in df2[:3]}\n",
    "new = {**my_pal2, **my_pal}\n",
    "print(my_pal2)\n",
    "ax = sns.violinplot( data= df2, palette=my_pal)\n",
    "ax.set(ylabel=\"log2 of the length in base pairs\", title= \"Log2 of lengths of exons and introns of genes with length over 60kb pairs\")\n",
    "\n"
   ]
  },
  {
   "cell_type": "code",
   "execution_count": null,
   "metadata": {},
   "outputs": [],
   "source": [
    "\n",
    "\n",
    "import seaborn \n",
    "    \n",
    "    \n",
    "seaborn.set(style = 'whitegrid')  \n",
    "tip = seaborn.load_dataset('tips')\n",
    "  \n",
    "seaborn.violinplot(x ='day', y ='tip', data = vln_plot)"
   ]
  },
  {
   "cell_type": "code",
   "execution_count": 42,
   "metadata": {},
   "outputs": [],
   "source": [
    "import pandas as pd\n",
    "from collections import defaultdict \n",
    "\n",
    "def gtf_file_manipulation(file_name, output_file_name = 'optional', gene_name = 'optional', intron_length_required= 'optional',  gene_length = 'optional' ,first_exon_length_min = 'optional', first_exon_length_max = 'optional'):\n",
    "\n",
    "    \n",
    "    if gene_length != 'optional':\n",
    "        data = pd.read_csv(file_name, sep = '\\t')\n",
    "        gene_lengths = []\n",
    "        for length in list(data['gene_length']):\n",
    "            if ',' not in length:\n",
    "                gene_lengths.append(int(length))\n",
    "            if ',' in length:\n",
    "                gene_lengths.append(int(length[:length.index(',')]))\n",
    "        data['gene_length'] = gene_lengths\n",
    "        above_threshold = (data[data['gene_length']  >= gene_length]) \n",
    "        dataframes_of_different_genes = [y for x, y in above_threshold.groupby('gene_id')]\n",
    "        c = 0 \n",
    "        with open(output_file_name, 'w') as out:\n",
    "            for gene_id in range(len(dataframes_of_different_genes)):\n",
    "                gene_exons_length_dict = defaultdict(int)\n",
    "                Name_of_the_gene = dataframes_of_different_genes[gene_id]['gene_id'].values[0]\n",
    "                chromosome = dataframes_of_different_genes[gene_id]['chromosome'].values[0]\n",
    "                gene_start = dataframes_of_different_genes[gene_id]['gene_start'].values[0]\n",
    "                gene_end = dataframes_of_different_genes[gene_id]['gene_end'].values[0]\n",
    "                number_of_exons = len(dataframes_of_different_genes[gene_id])\n",
    "                length_of_the_gene = dataframes_of_different_genes[gene_id]['gene_length'].values[0]\n",
    "                exons_rank = []\n",
    "                for i in dataframes_of_different_genes[gene_id].index:\n",
    "                    exons_rank.append(int((dataframes_of_different_genes[gene_id]['exon_id'][i])))\n",
    "                    gene_exons_length_dict[int((dataframes_of_different_genes[gene_id]['exon_id'][i]))] =  dataframes_of_different_genes[gene_id]['exon_start'][i] , dataframes_of_different_genes[gene_id]['exon_end'][i] \n",
    "                gene_exons_length_dict_sorted_by_exons_sort =  dict(sorted(gene_exons_length_dict.items()))\n",
    "                #print(gene_exons_length_dict_sorted_by_exons_sort)\n",
    "                if (len(sorted(exons_rank)) != len(set(exons_rank))):\n",
    "                    c+=1\n",
    "                #print(sorted(exons_rank))\n",
    "                if (int(length_of_the_gene) >= gene_length) :\n",
    "                    intron_length = []    \n",
    "                    for i,j in list(zip(list(gene_exons_length_dict_sorted_by_exons_sort.values())[:-1],list(gene_exons_length_dict_sorted_by_exons_sort.values())[1:])):\n",
    "                        intron_length.append(j[0] - (i[1]))\n",
    "                    intron_length.append('end')\n",
    "                    exon_length_intron_length = list(zip(list(gene_exons_length_dict_sorted_by_exons_sort.values()), intron_length))\n",
    "                    if intron_length[0] > intron_length_required:\n",
    "                        #print(gene_exons_length_dict_sorted_by_exons_sort.values())\n",
    "                        to_write = (str(Name_of_the_gene) + ('\\t') + str(chromosome) + ('\\t')  + str(gene_start)  + ('\\t')  +  str(gene_end)  + ('\\t')  +  str(length_of_the_gene)  + ('\\t') + str(list(gene_exons_length_dict_sorted_by_exons_sort.values())[:-1])  )\n",
    "                        out.write(to_write+'\\n')\n",
    "        print(c, len(dataframes_of_different_genes))\n",
    "        return('Done!')\n",
    "                \n",
    "           \n",
    " "
   ]
  },
  {
   "cell_type": "code",
   "execution_count": 45,
   "metadata": {},
   "outputs": [
    {
     "name": "stdout",
     "output_type": "stream",
     "text": [
      "0 8676\n"
     ]
    },
    {
     "data": {
      "text/plain": [
       "'Done!'"
      ]
     },
     "execution_count": 45,
     "metadata": {},
     "output_type": "execute_result"
    }
   ],
   "source": [
    "gtf_file_manipulation('final.txt', 'output_file_of_genes_greater_5Kbp_first_intron.tsv', gene_length=30000, intron_length_required= 5000 )"
   ]
  },
  {
   "cell_type": "code",
   "execution_count": 41,
   "metadata": {},
   "outputs": [],
   "source": [
    "##### Prediction in  Genes with Above a Gene Length Threshold and above a First Intron Length threshold ####\n",
    "import numpy as np\n",
    "def genes_above_threshold(file_with_genes, gene_of_interest_positions, intron_exons_junctions):\n",
    "    with open(gene_of_interest_positions, 'w+') as interest_positions:\n",
    "        with open(intron_exons_junctions, 'w+') as intron_exon_junctions:\n",
    "            with open(file_with_genes, 'r+') as genes:\n",
    "                gene_list = genes.readlines()\n",
    "                for gene in gene_list:\n",
    "                    name = gene.strip('\\n').split('\\t')[0]\n",
    "                    chr =  gene.strip('\\n').split('\\t')[1]\n",
    "                    start = gene.strip('\\n').split('\\t')[2]\n",
    "                    end = gene.strip('\\n').split('\\t')[3]\n",
    "                    length =gene.strip('\\n').split('\\t')[4]\n",
    "                    list_with_exons = eval(gene.strip('\\n').split('\\t')[5])\n",
    "                    starts =  list(np.arange(int(start), int(end), 20))\n",
    "                    ends =   list(np.arange((int(start)+1), (int(end)+1),20))\n",
    "                    number_of_exons = len(list_with_exons)\n",
    "                    list_with_introns =  [(list_with_exons[i][1], list_with_exons[i + 1][0]) for i in range(len(list_with_exons) - 1)]\n",
    "                    exon_rank = 0\n",
    "                    intron_rank = 0\n",
    "                    #print(list_with_exons)\n",
    "                    #print(list_with_introns)\n",
    "                    # report if exon as 1 and if it is intron as a 0\n",
    "                    for exon in list_with_exons:\n",
    "                        exon_rank += 1\n",
    "                        # generate random positions in all exons and report their rank and that they are exons (1)\n",
    "                        random_numbers_list = np.random.randint(exon[0], exon[1], size=(int((exon[1]-exon[0])/20)))\n",
    "                        for i in random_numbers_list:\n",
    "                            interest_positions.write(str(chr)+'\\t'+str(i)+'\\t'+str(i+1)+'\\t'+str(exon_rank)+'\\t'+str(1)+'\\n')\n",
    "                    for intron in list_with_introns:\n",
    "                        intron_rank += 1\n",
    "                        random_numbers_list = np.random.randint(intron[0], intron[1], size=(int((intron[1]-intron[0])/20)))\n",
    "                        intron_exon_junctions.write(str(chr)+'\\t'+str(intron[1])+'\\t'+str(intron[1]+1)+'\\t'+str(intron_rank)+'\\t'+str(1)+'\\n')\n",
    "                        intron_exon_junctions.write(str(chr)+'\\t'+str(intron[0])+'\\t'+str(intron[0]-1)+'\\t'+str(intron_rank)+'\\t'+str(1)+'\\n')\n",
    "                        for i in random_numbers_list:\n",
    "                            interest_positions.write(str(chr)+'\\t'+str(i)+'\\t'+str(i+1)+'\\t'+str(intron_rank)+'\\t'+str(0)+'\\n')\n",
    "                    \n",
    "                    #for i in range(int(int(length)/20)):\n",
    "                    #    interest_positions.write(str(chr)+'\\t'+str(starts[i])+'\\t'+(str(ends[i]))+'\\n')\n",
    "\n",
    "\n",
    "genes_above_threshold('output_file_of_genes_greater_100bp.tsv', 'positions_of_interest.tsv', 'intron_exon_juctions.tsv')##### Prediction in  Genes with Above a Gene Length Threshold and above a First Intron Length threshold ####\n"
   ]
  },
  {
   "cell_type": "code",
   "execution_count": null,
   "metadata": {},
   "outputs": [],
   "source": []
  }
 ],
 "metadata": {
  "kernelspec": {
   "display_name": "Python 3",
   "language": "python",
   "name": "python3"
  },
  "language_info": {
   "codemirror_mode": {
    "name": "ipython",
    "version": 3
   },
   "file_extension": ".py",
   "mimetype": "text/x-python",
   "name": "python",
   "nbconvert_exporter": "python",
   "pygments_lexer": "ipython3",
   "version": "3.11.9"
  }
 },
 "nbformat": 4,
 "nbformat_minor": 2
}
